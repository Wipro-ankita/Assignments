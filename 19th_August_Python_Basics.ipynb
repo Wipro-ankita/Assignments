{
 "cells": [
  {
   "cell_type": "code",
   "execution_count": 4,
   "id": "f493eef2-033c-4c22-9f8e-0369ab5100b6",
   "metadata": {},
   "outputs": [
    {
     "name": "stdout",
     "output_type": "stream",
     "text": [
      "Value of x is 20\n",
      "Value of y is 10\n"
     ]
    }
   ],
   "source": [
    "x= 10\n",
    "y= 20\n",
    "x,y=y,x\n",
    "print(\"Value of x is\",x)\n",
    "print(\"Value of y is\",y)\n"
   ]
  },
  {
   "cell_type": "code",
   "execution_count": 6,
   "id": "0cbad7f6-0f29-4c1a-9ba1-1d30b44df582",
   "metadata": {},
   "outputs": [
    {
     "name": "stdout",
     "output_type": "stream",
     "text": [
      "Enter Length: \n"
     ]
    },
    {
     "name": "stdin",
     "output_type": "stream",
     "text": [
      " 2\n"
     ]
    },
    {
     "name": "stdout",
     "output_type": "stream",
     "text": [
      "Enter Width: \n"
     ]
    },
    {
     "name": "stdin",
     "output_type": "stream",
     "text": [
      " 4\n"
     ]
    },
    {
     "name": "stdout",
     "output_type": "stream",
     "text": [
      "Area of rectangle is 8\n"
     ]
    }
   ],
   "source": [
    "print(\"Enter Length: \")\n",
    "l = int(input())\n",
    "print(\"Enter Width: \")\n",
    "b = int(input())\n",
    "a = l*b\n",
    "print(\"Area of rectangle is\", a)"
   ]
  },
  {
   "cell_type": "code",
   "execution_count": 8,
   "id": "3e28ecb5-727a-4761-aa4c-1e3d12cb0d36",
   "metadata": {},
   "outputs": [
    {
     "name": "stdin",
     "output_type": "stream",
     "text": [
      "Enter temperature in Celcius 1\n"
     ]
    },
    {
     "name": "stdout",
     "output_type": "stream",
     "text": [
      "Temperature conversion from Celcius to Farenite is 33.8\n"
     ]
    }
   ],
   "source": [
    "cel_temp = float(input(\"Enter temperature in Celcius\"))\n",
    "far_temp = (cel_temp*1.8)+32\n",
    "print(\"Temperature conversion from Celcius to Farenite is\", far_temp)"
   ]
  },
  {
   "cell_type": "code",
   "execution_count": 9,
   "id": "75a6f457-a43a-41a7-910a-20847e2489a2",
   "metadata": {},
   "outputs": [
    {
     "name": "stdin",
     "output_type": "stream",
     "text": [
      "Enter your string ankita\n"
     ]
    },
    {
     "name": "stdout",
     "output_type": "stream",
     "text": [
      "length of string is 6\n"
     ]
    }
   ],
   "source": [
    "str1 = input(\"Enter your string\")\n",
    "print(\"length of string is\",len(str1))"
   ]
  },
  {
   "cell_type": "code",
   "execution_count": 13,
   "id": "e1c5f824-b438-4b06-bc09-6c0361b119a6",
   "metadata": {},
   "outputs": [
    {
     "name": "stdin",
     "output_type": "stream",
     "text": [
      "Enter your statement ANKITA\n"
     ]
    },
    {
     "name": "stdout",
     "output_type": "stream",
     "text": [
      "Number of vowels in statement are : 3\n"
     ]
    }
   ],
   "source": [
    "statement = input(\"Enter your statement\")\n",
    "vowel_count = 0\n",
    "for char in statement:\n",
    "    char_lower = char.lower()\n",
    "    if char_lower in \"aeiou\":\n",
    "        vowel_count = vowel_count+1\n",
    "print(\"Number of vowels in statement are :\", vowel_count)\n"
   ]
  },
  {
   "cell_type": "code",
   "execution_count": 14,
   "id": "f8a487a0-8fcb-4e70-b339-2926b49b20b6",
   "metadata": {},
   "outputs": [
    {
     "name": "stdin",
     "output_type": "stream",
     "text": [
      "Enter choice of your string ANKITA\n"
     ]
    },
    {
     "name": "stdout",
     "output_type": "stream",
     "text": [
      "Reverse if your String is : ATIKNA\n"
     ]
    }
   ],
   "source": [
    "str2 = input(\"Enter choice of your string\")\n",
    "str2 = str2[::-1]\n",
    "print(\"Reverse if your String is :\", str2)"
   ]
  },
  {
   "cell_type": "code",
   "execution_count": 16,
   "id": "c6432358-1d31-4159-8759-a72aa916e4b5",
   "metadata": {},
   "outputs": [
    {
     "name": "stdin",
     "output_type": "stream",
     "text": [
      "Enter choice of your string abbbba\n"
     ]
    },
    {
     "name": "stdout",
     "output_type": "stream",
     "text": [
      "String is Palindrome\n"
     ]
    }
   ],
   "source": [
    "str3 = input(\"Enter choice of your string\")\n",
    "str4 = str3[::-1]\n",
    "if str3 == str4:\n",
    "    print(\"String is Palindrome\")\n",
    "else:\n",
    "    print(\"String is not Palindrome\")"
   ]
  },
  {
   "cell_type": "code",
   "execution_count": 17,
   "id": "f7eadad4-050e-405b-9b0b-696db38223dc",
   "metadata": {},
   "outputs": [
    {
     "name": "stdin",
     "output_type": "stream",
     "text": [
      "Enter choice of your string ankita nagarle\n"
     ]
    },
    {
     "name": "stdout",
     "output_type": "stream",
     "text": [
      "ankitanagarle\n"
     ]
    }
   ],
   "source": [
    "str5 = input(\"Enter choice of your string\")\n",
    "str6=\"\"\n",
    "for char in str5:\n",
    "    if char !=\" \":\n",
    "        str6 = str6+char;\n",
    "print(str6) "
   ]
  },
  {
   "cell_type": "code",
   "execution_count": null,
   "id": "89ea2021-dad7-46cb-8002-525b275dd517",
   "metadata": {},
   "outputs": [],
   "source": []
  }
 ],
 "metadata": {
  "kernelspec": {
   "display_name": "Python 3 (ipykernel)",
   "language": "python",
   "name": "python3"
  },
  "language_info": {
   "codemirror_mode": {
    "name": "ipython",
    "version": 3
   },
   "file_extension": ".py",
   "mimetype": "text/x-python",
   "name": "python",
   "nbconvert_exporter": "python",
   "pygments_lexer": "ipython3",
   "version": "3.10.8"
  }
 },
 "nbformat": 4,
 "nbformat_minor": 5
}
